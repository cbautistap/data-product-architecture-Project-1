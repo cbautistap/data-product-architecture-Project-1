{
 "cells": [
  {
   "cell_type": "code",
   "execution_count": 6,
   "metadata": {},
   "outputs": [],
   "source": [
    "import boto3\n",
    "import pandas as pd"
   ]
  },
  {
   "cell_type": "code",
   "execution_count": 2,
   "metadata": {},
   "outputs": [],
   "source": [
    "import json"
   ]
  },
  {
   "cell_type": "code",
   "execution_count": 3,
   "metadata": {},
   "outputs": [],
   "source": [
    "import datetime"
   ]
  },
  {
   "cell_type": "code",
   "execution_count": 4,
   "metadata": {},
   "outputs": [
    {
     "name": "stderr",
     "output_type": "stream",
     "text": [
      "Loading postgres module without psycopg2 installed. Will crash at runtime if postgres functionality is used.\n"
     ]
    }
   ],
   "source": [
    "from luigi.contrib.postgres import CopyToTable"
   ]
  },
  {
   "cell_type": "code",
   "execution_count": 13,
   "metadata": {},
   "outputs": [],
   "source": [
    "#import psycopg2"
   ]
  },
  {
   "cell_type": "code",
   "execution_count": 221,
   "metadata": {},
   "outputs": [],
   "source": [
    "f = pd.DataFrame(columns=[\"anio\", \"estacion\", \"fecha\", \"linea\", \"afluencia\"]) # 6\n",
    "\n",
    "#anio', 'estacion', 'fecha', 'linea', 'afluencia'"
   ]
  },
  {
   "cell_type": "code",
   "execution_count": 222,
   "metadata": {},
   "outputs": [],
   "source": [
    "df = pd.read_json(r'metro_2019-01-01.json',encoding='utf-8', orient='values', lines=True)# ,col=[\"fecha\", \"anio\", \"linea\", \"estacion\", \"afluencia\"]) # 1"
   ]
  },
  {
   "cell_type": "code",
   "execution_count": 241,
   "metadata": {},
   "outputs": [
    {
     "data": {
      "text/html": [
       "<div>\n",
       "<style scoped>\n",
       "    .dataframe tbody tr th:only-of-type {\n",
       "        vertical-align: middle;\n",
       "    }\n",
       "\n",
       "    .dataframe tbody tr th {\n",
       "        vertical-align: top;\n",
       "    }\n",
       "\n",
       "    .dataframe thead th {\n",
       "        text-align: right;\n",
       "    }\n",
       "</style>\n",
       "<table border=\"1\" class=\"dataframe\">\n",
       "  <thead>\n",
       "    <tr style=\"text-align: right;\">\n",
       "      <th></th>\n",
       "      <th>nhits</th>\n",
       "      <th>parameters</th>\n",
       "      <th>records</th>\n",
       "      <th>facet_groups</th>\n",
       "    </tr>\n",
       "  </thead>\n",
       "  <tbody>\n",
       "    <tr>\n",
       "      <th>0</th>\n",
       "      <td>195</td>\n",
       "      <td>{'dataset': 'afluencia-diaria-del-metro-cdmx',...</td>\n",
       "      <td>[{'datasetid': 'afluencia-diaria-del-metro-cdm...</td>\n",
       "      <td>[{'facets': [{'count': 195, 'path': '2019', 's...</td>\n",
       "    </tr>\n",
       "  </tbody>\n",
       "</table>\n",
       "</div>"
      ],
      "text/plain": [
       "   nhits                                         parameters  \\\n",
       "0    195  {'dataset': 'afluencia-diaria-del-metro-cdmx',...   \n",
       "\n",
       "                                             records  \\\n",
       "0  [{'datasetid': 'afluencia-diaria-del-metro-cdm...   \n",
       "\n",
       "                                        facet_groups  \n",
       "0  [{'facets': [{'count': 195, 'path': '2019', 's...  "
      ]
     },
     "execution_count": 241,
     "metadata": {},
     "output_type": "execute_result"
    }
   ],
   "source": [
    "df"
   ]
  },
  {
   "cell_type": "code",
   "execution_count": 260,
   "metadata": {},
   "outputs": [
    {
     "data": {
      "text/plain": [
       "{'datasetid': 'afluencia-diaria-del-metro-cdmx',\n",
       " 'recordid': 'ec33a8dcf83dba40ce9b09e1f51f67acefe1a0ef',\n",
       " 'fields': {'anio': '2019',\n",
       "  'estacion': 'Pantitlán',\n",
       "  'fecha': '2019-01-01',\n",
       "  'linea': 'Linea 1',\n",
       "  'afluencia': '14452'},\n",
       " 'record_timestamp': '2020-03-25T17:13:11.354000+00:00'}"
      ]
     },
     "execution_count": 260,
     "metadata": {},
     "output_type": "execute_result"
    }
   ],
   "source": [
    "dfrec=df['records'][0] # 2\n",
    "dfrec[0]"
   ]
  },
  {
   "cell_type": "code",
   "execution_count": 319,
   "metadata": {},
   "outputs": [],
   "source": [
    "json_str = json.dumps(dfrec[1])  # aqui va el for # 3"
   ]
  },
  {
   "cell_type": "code",
   "execution_count": 320,
   "metadata": {},
   "outputs": [
    {
     "data": {
      "text/plain": [
       "'{\"datasetid\": \"afluencia-diaria-del-metro-cdmx\", \"recordid\": \"400086b6463bbfe0151467f1e9ace23c6e4e5781\", \"fields\": {\"anio\": \"2019\", \"estacion\": \"Zaragoza\", \"fecha\": \"2019-01-01\", \"linea\": \"Linea 1\", \"afluencia\": \"22076\"}, \"record_timestamp\": \"2020-03-25T17:13:11.354000+00:00\"}'"
      ]
     },
     "execution_count": 320,
     "metadata": {},
     "output_type": "execute_result"
    }
   ],
   "source": [
    "json_str"
   ]
  },
  {
   "cell_type": "code",
   "execution_count": 321,
   "metadata": {},
   "outputs": [
    {
     "data": {
      "text/html": [
       "<div>\n",
       "<style scoped>\n",
       "    .dataframe tbody tr th:only-of-type {\n",
       "        vertical-align: middle;\n",
       "    }\n",
       "\n",
       "    .dataframe tbody tr th {\n",
       "        vertical-align: top;\n",
       "    }\n",
       "\n",
       "    .dataframe thead th {\n",
       "        text-align: right;\n",
       "    }\n",
       "</style>\n",
       "<table border=\"1\" class=\"dataframe\">\n",
       "  <thead>\n",
       "    <tr style=\"text-align: right;\">\n",
       "      <th></th>\n",
       "      <th>0</th>\n",
       "    </tr>\n",
       "  </thead>\n",
       "  <tbody>\n",
       "    <tr>\n",
       "      <th>datasetid</th>\n",
       "      <td>afluencia-diaria-del-metro-cdmx</td>\n",
       "    </tr>\n",
       "    <tr>\n",
       "      <th>recordid</th>\n",
       "      <td>400086b6463bbfe0151467f1e9ace23c6e4e5781</td>\n",
       "    </tr>\n",
       "    <tr>\n",
       "      <th>fields</th>\n",
       "      <td>{'anio': '2019', 'estacion': 'Zaragoza', 'fech...</td>\n",
       "    </tr>\n",
       "    <tr>\n",
       "      <th>record_timestamp</th>\n",
       "      <td>2020-03-25T17:13:11.354000+00:00</td>\n",
       "    </tr>\n",
       "  </tbody>\n",
       "</table>\n",
       "</div>"
      ],
      "text/plain": [
       "                                                                  0\n",
       "datasetid                           afluencia-diaria-del-metro-cdmx\n",
       "recordid                   400086b6463bbfe0151467f1e9ace23c6e4e5781\n",
       "fields            {'anio': '2019', 'estacion': 'Zaragoza', 'fech...\n",
       "record_timestamp                   2020-03-25T17:13:11.354000+00:00"
      ]
     },
     "execution_count": 321,
     "metadata": {},
     "output_type": "execute_result"
    }
   ],
   "source": [
    "el_json=pd.read_json(json_str,orient='index',encoding='utf-8') # 4\n",
    "el_json"
   ]
  },
  {
   "cell_type": "code",
   "execution_count": 322,
   "metadata": {},
   "outputs": [
    {
     "data": {
      "text/plain": [
       "{'anio': '2019',\n",
       " 'estacion': 'Zaragoza',\n",
       " 'fecha': '2019-01-01',\n",
       " 'linea': 'Linea 1',\n",
       " 'afluencia': '22076'}"
      ]
     },
     "execution_count": 322,
     "metadata": {},
     "output_type": "execute_result"
    }
   ],
   "source": [
    "a_ver = (el_json.loc['fields'][0]) #5\n",
    "a_ver"
   ]
  },
  {
   "cell_type": "code",
   "execution_count": 323,
   "metadata": {},
   "outputs": [],
   "source": [
    "nuevo=pd.DataFrame(a_ver,index=[0]) # 7"
   ]
  },
  {
   "cell_type": "code",
   "execution_count": 327,
   "metadata": {},
   "outputs": [
    {
     "data": {
      "text/html": [
       "<div>\n",
       "<style scoped>\n",
       "    .dataframe tbody tr th:only-of-type {\n",
       "        vertical-align: middle;\n",
       "    }\n",
       "\n",
       "    .dataframe tbody tr th {\n",
       "        vertical-align: top;\n",
       "    }\n",
       "\n",
       "    .dataframe thead th {\n",
       "        text-align: right;\n",
       "    }\n",
       "</style>\n",
       "<table border=\"1\" class=\"dataframe\">\n",
       "  <thead>\n",
       "    <tr style=\"text-align: right;\">\n",
       "      <th></th>\n",
       "      <th>anio</th>\n",
       "      <th>estacion</th>\n",
       "      <th>fecha</th>\n",
       "      <th>linea</th>\n",
       "      <th>afluencia</th>\n",
       "    </tr>\n",
       "  </thead>\n",
       "  <tbody>\n",
       "    <tr>\n",
       "      <th>0</th>\n",
       "      <td>2019</td>\n",
       "      <td>Zaragoza</td>\n",
       "      <td>2019-01-01</td>\n",
       "      <td>Linea 1</td>\n",
       "      <td>22076</td>\n",
       "    </tr>\n",
       "  </tbody>\n",
       "</table>\n",
       "</div>"
      ],
      "text/plain": [
       "   anio  estacion       fecha    linea afluencia\n",
       "0  2019  Zaragoza  2019-01-01  Linea 1     22076"
      ]
     },
     "execution_count": 327,
     "metadata": {},
     "output_type": "execute_result"
    }
   ],
   "source": [
    "f.append(nuevo) # 8"
   ]
  },
  {
   "cell_type": "code",
   "execution_count": 303,
   "metadata": {},
   "outputs": [],
   "source": [
    "#for i in range(len(list(dfrec))):\n",
    "#    print(dfrec[i])"
   ]
  },
  {
   "cell_type": "code",
   "execution_count": 330,
   "metadata": {},
   "outputs": [],
   "source": [
    "f = pd.DataFrame(columns=[\"anio\", \"estacion\", \"fecha\", \"linea\", \"afluencia\"])\n",
    "df = pd.read_json(r'metro_2019-01-01.json',encoding='utf-8', orient='values', lines=True)\n",
    "dfrec=df['records'][0]\n",
    "df_aux = f\n",
    "for x in range(len(list(dfrec))):\n",
    "    #print(x)\n",
    "    json_str = json.dumps(dfrec[x])\n",
    "    #print(\"json_str:\",json_str)\n",
    "    #print('\\n')\n",
    "    el_json=pd.read_json(json_str,orient='index',encoding='utf-8')\n",
    "    #print(\"el_json : \", el_json)\n",
    "    #print('\\n')\n",
    "    a_ver = (el_json.loc['fields'][0])\n",
    "    #print(\"a_ver: \",a_ver)\n",
    "    #print('\\n')\n",
    "    nuevo=pd.DataFrame(a_ver,index=[0])\n",
    "    #print(\"nuevo: \",nuevo)\n",
    "    #print('\\n')\n",
    "    f=f.append(nuevo)\n",
    "    \n",
    "    "
   ]
  },
  {
   "cell_type": "code",
   "execution_count": 333,
   "metadata": {},
   "outputs": [
    {
     "data": {
      "text/html": [
       "<div>\n",
       "<style scoped>\n",
       "    .dataframe tbody tr th:only-of-type {\n",
       "        vertical-align: middle;\n",
       "    }\n",
       "\n",
       "    .dataframe tbody tr th {\n",
       "        vertical-align: top;\n",
       "    }\n",
       "\n",
       "    .dataframe thead th {\n",
       "        text-align: right;\n",
       "    }\n",
       "</style>\n",
       "<table border=\"1\" class=\"dataframe\">\n",
       "  <thead>\n",
       "    <tr style=\"text-align: right;\">\n",
       "      <th></th>\n",
       "      <th>anio</th>\n",
       "      <th>estacion</th>\n",
       "      <th>fecha</th>\n",
       "      <th>linea</th>\n",
       "      <th>afluencia</th>\n",
       "    </tr>\n",
       "  </thead>\n",
       "  <tbody>\n",
       "    <tr>\n",
       "      <th>0</th>\n",
       "      <td>2019</td>\n",
       "      <td>Pantitlán</td>\n",
       "      <td>2019-01-01</td>\n",
       "      <td>Linea 1</td>\n",
       "      <td>14452</td>\n",
       "    </tr>\n",
       "    <tr>\n",
       "      <th>0</th>\n",
       "      <td>2019</td>\n",
       "      <td>Zaragoza</td>\n",
       "      <td>2019-01-01</td>\n",
       "      <td>Linea 1</td>\n",
       "      <td>22076</td>\n",
       "    </tr>\n",
       "    <tr>\n",
       "      <th>0</th>\n",
       "      <td>2019</td>\n",
       "      <td>Blvd. Puerto Aéreo</td>\n",
       "      <td>2019-01-01</td>\n",
       "      <td>Linea 1</td>\n",
       "      <td>12613</td>\n",
       "    </tr>\n",
       "    <tr>\n",
       "      <th>0</th>\n",
       "      <td>2019</td>\n",
       "      <td>Balbuena</td>\n",
       "      <td>2019-01-01</td>\n",
       "      <td>Linea 1</td>\n",
       "      <td>5888</td>\n",
       "    </tr>\n",
       "    <tr>\n",
       "      <th>0</th>\n",
       "      <td>2019</td>\n",
       "      <td>Insurgentes</td>\n",
       "      <td>2019-01-01</td>\n",
       "      <td>Linea 1</td>\n",
       "      <td>13832</td>\n",
       "    </tr>\n",
       "  </tbody>\n",
       "</table>\n",
       "</div>"
      ],
      "text/plain": [
       "   anio            estacion       fecha    linea afluencia\n",
       "0  2019           Pantitlán  2019-01-01  Linea 1     14452\n",
       "0  2019            Zaragoza  2019-01-01  Linea 1     22076\n",
       "0  2019  Blvd. Puerto Aéreo  2019-01-01  Linea 1     12613\n",
       "0  2019            Balbuena  2019-01-01  Linea 1      5888\n",
       "0  2019         Insurgentes  2019-01-01  Linea 1     13832"
      ]
     },
     "execution_count": 333,
     "metadata": {},
     "output_type": "execute_result"
    }
   ],
   "source": [
    "f.head()"
   ]
  },
  {
   "cell_type": "code",
   "execution_count": 334,
   "metadata": {},
   "outputs": [
    {
     "data": {
      "text/html": [
       "<div>\n",
       "<style scoped>\n",
       "    .dataframe tbody tr th:only-of-type {\n",
       "        vertical-align: middle;\n",
       "    }\n",
       "\n",
       "    .dataframe tbody tr th {\n",
       "        vertical-align: top;\n",
       "    }\n",
       "\n",
       "    .dataframe thead th {\n",
       "        text-align: right;\n",
       "    }\n",
       "</style>\n",
       "<table border=\"1\" class=\"dataframe\">\n",
       "  <thead>\n",
       "    <tr style=\"text-align: right;\">\n",
       "      <th></th>\n",
       "      <th>anio</th>\n",
       "      <th>estacion</th>\n",
       "      <th>fecha</th>\n",
       "      <th>linea</th>\n",
       "      <th>afluencia</th>\n",
       "    </tr>\n",
       "  </thead>\n",
       "  <tbody>\n",
       "    <tr>\n",
       "      <th>0</th>\n",
       "      <td>2019</td>\n",
       "      <td>Pantitlán</td>\n",
       "      <td>2019-01-01</td>\n",
       "      <td>Linea 1</td>\n",
       "      <td>14452</td>\n",
       "    </tr>\n",
       "    <tr>\n",
       "      <th>0</th>\n",
       "      <td>2019</td>\n",
       "      <td>Zaragoza</td>\n",
       "      <td>2019-01-01</td>\n",
       "      <td>Linea 1</td>\n",
       "      <td>22076</td>\n",
       "    </tr>\n",
       "    <tr>\n",
       "      <th>0</th>\n",
       "      <td>2019</td>\n",
       "      <td>Blvd. Puerto Aéreo</td>\n",
       "      <td>2019-01-01</td>\n",
       "      <td>Linea 1</td>\n",
       "      <td>12613</td>\n",
       "    </tr>\n",
       "    <tr>\n",
       "      <th>0</th>\n",
       "      <td>2019</td>\n",
       "      <td>Balbuena</td>\n",
       "      <td>2019-01-01</td>\n",
       "      <td>Linea 1</td>\n",
       "      <td>5888</td>\n",
       "    </tr>\n",
       "    <tr>\n",
       "      <th>0</th>\n",
       "      <td>2019</td>\n",
       "      <td>Insurgentes</td>\n",
       "      <td>2019-01-01</td>\n",
       "      <td>Linea 1</td>\n",
       "      <td>13832</td>\n",
       "    </tr>\n",
       "    <tr>\n",
       "      <th>...</th>\n",
       "      <td>...</td>\n",
       "      <td>...</td>\n",
       "      <td>...</td>\n",
       "      <td>...</td>\n",
       "      <td>...</td>\n",
       "    </tr>\n",
       "    <tr>\n",
       "      <th>0</th>\n",
       "      <td>2019</td>\n",
       "      <td>Ciudad Azteca</td>\n",
       "      <td>2019-01-01</td>\n",
       "      <td>Linea B</td>\n",
       "      <td>27091</td>\n",
       "    </tr>\n",
       "    <tr>\n",
       "      <th>0</th>\n",
       "      <td>2019</td>\n",
       "      <td>Tláhuac</td>\n",
       "      <td>2019-01-01</td>\n",
       "      <td>Linea 12</td>\n",
       "      <td>18241</td>\n",
       "    </tr>\n",
       "    <tr>\n",
       "      <th>0</th>\n",
       "      <td>2019</td>\n",
       "      <td>Tlaltenco</td>\n",
       "      <td>2019-01-01</td>\n",
       "      <td>Linea 12</td>\n",
       "      <td>1397</td>\n",
       "    </tr>\n",
       "    <tr>\n",
       "      <th>0</th>\n",
       "      <td>2019</td>\n",
       "      <td>Zapotitlán</td>\n",
       "      <td>2019-01-01</td>\n",
       "      <td>Linea 12</td>\n",
       "      <td>5459</td>\n",
       "    </tr>\n",
       "    <tr>\n",
       "      <th>0</th>\n",
       "      <td>2019</td>\n",
       "      <td>Calle 11</td>\n",
       "      <td>2019-01-01</td>\n",
       "      <td>Linea 12</td>\n",
       "      <td>4170</td>\n",
       "    </tr>\n",
       "  </tbody>\n",
       "</table>\n",
       "<p>195 rows × 5 columns</p>\n",
       "</div>"
      ],
      "text/plain": [
       "    anio            estacion       fecha     linea afluencia\n",
       "0   2019           Pantitlán  2019-01-01   Linea 1     14452\n",
       "0   2019            Zaragoza  2019-01-01   Linea 1     22076\n",
       "0   2019  Blvd. Puerto Aéreo  2019-01-01   Linea 1     12613\n",
       "0   2019            Balbuena  2019-01-01   Linea 1      5888\n",
       "0   2019         Insurgentes  2019-01-01   Linea 1     13832\n",
       "..   ...                 ...         ...       ...       ...\n",
       "0   2019       Ciudad Azteca  2019-01-01   Linea B     27091\n",
       "0   2019             Tláhuac  2019-01-01  Linea 12     18241\n",
       "0   2019           Tlaltenco  2019-01-01  Linea 12      1397\n",
       "0   2019          Zapotitlán  2019-01-01  Linea 12      5459\n",
       "0   2019            Calle 11  2019-01-01  Linea 12      4170\n",
       "\n",
       "[195 rows x 5 columns]"
      ]
     },
     "execution_count": 334,
     "metadata": {},
     "output_type": "execute_result"
    }
   ],
   "source": [
    "f # "
   ]
  },
  {
   "cell_type": "code",
   "execution_count": null,
   "metadata": {},
   "outputs": [],
   "source": [
    "\n",
    "    "
   ]
  },
  {
   "cell_type": "code",
   "execution_count": null,
   "metadata": {},
   "outputs": [],
   "source": []
  },
  {
   "cell_type": "code",
   "execution_count": 275,
   "metadata": {},
   "outputs": [
    {
     "data": {
      "text/plain": [
       "{'datasetid': 'afluencia-diaria-del-metro-cdmx',\n",
       " 'recordid': '25d2093306fd85bc965fb11b8d10b8bce12688aa',\n",
       " 'fields': {'anio': '2019',\n",
       "  'estacion': 'Blvd. Puerto Aéreo',\n",
       "  'fecha': '2019-01-01',\n",
       "  'linea': 'Linea 1',\n",
       "  'afluencia': '12613'},\n",
       " 'record_timestamp': '2020-03-25T17:13:11.354000+00:00'}"
      ]
     },
     "execution_count": 275,
     "metadata": {},
     "output_type": "execute_result"
    }
   ],
   "source": [
    "list(dfrec)[2]"
   ]
  },
  {
   "cell_type": "code",
   "execution_count": 248,
   "metadata": {},
   "outputs": [
    {
     "data": {
      "text/plain": [
       "range(0, 195)"
      ]
     },
     "execution_count": 248,
     "metadata": {},
     "output_type": "execute_result"
    }
   ],
   "source": [
    "range(len(dfrec))"
   ]
  },
  {
   "cell_type": "code",
   "execution_count": 278,
   "metadata": {},
   "outputs": [
    {
     "data": {
      "text/plain": [
       "195"
      ]
     },
     "execution_count": 278,
     "metadata": {},
     "output_type": "execute_result"
    }
   ],
   "source": [
    "len(list(dfrec))"
   ]
  },
  {
   "cell_type": "code",
   "execution_count": null,
   "metadata": {},
   "outputs": [],
   "source": []
  },
  {
   "cell_type": "code",
   "execution_count": 19,
   "metadata": {},
   "outputs": [
    {
     "data": {
      "text/html": [
       "<div>\n",
       "<style scoped>\n",
       "    .dataframe tbody tr th:only-of-type {\n",
       "        vertical-align: middle;\n",
       "    }\n",
       "\n",
       "    .dataframe tbody tr th {\n",
       "        vertical-align: top;\n",
       "    }\n",
       "\n",
       "    .dataframe thead th {\n",
       "        text-align: right;\n",
       "    }\n",
       "</style>\n",
       "<table border=\"1\" class=\"dataframe\">\n",
       "  <thead>\n",
       "    <tr style=\"text-align: right;\">\n",
       "      <th></th>\n",
       "      <th>nhits</th>\n",
       "      <th>parameters</th>\n",
       "      <th>records</th>\n",
       "      <th>facet_groups</th>\n",
       "    </tr>\n",
       "  </thead>\n",
       "  <tbody>\n",
       "    <tr>\n",
       "      <th>0</th>\n",
       "      <td>195</td>\n",
       "      <td>{'dataset': 'afluencia-diaria-del-metro-cdmx',...</td>\n",
       "      <td>[{'datasetid': 'afluencia-diaria-del-metro-cdm...</td>\n",
       "      <td>[{'facets': [{'count': 195, 'path': '2019', 's...</td>\n",
       "    </tr>\n",
       "  </tbody>\n",
       "</table>\n",
       "</div>"
      ],
      "text/plain": [
       "   nhits                                         parameters  \\\n",
       "0    195  {'dataset': 'afluencia-diaria-del-metro-cdmx',...   \n",
       "\n",
       "                                             records  \\\n",
       "0  [{'datasetid': 'afluencia-diaria-del-metro-cdm...   \n",
       "\n",
       "                                        facet_groups  \n",
       "0  [{'facets': [{'count': 195, 'path': '2019', 's...  "
      ]
     },
     "execution_count": 19,
     "metadata": {},
     "output_type": "execute_result"
    }
   ],
   "source": [
    "df.head()"
   ]
  },
  {
   "cell_type": "code",
   "execution_count": 20,
   "metadata": {},
   "outputs": [
    {
     "data": {
      "text/html": [
       "<div>\n",
       "<style scoped>\n",
       "    .dataframe tbody tr th:only-of-type {\n",
       "        vertical-align: middle;\n",
       "    }\n",
       "\n",
       "    .dataframe tbody tr th {\n",
       "        vertical-align: top;\n",
       "    }\n",
       "\n",
       "    .dataframe thead th {\n",
       "        text-align: right;\n",
       "    }\n",
       "</style>\n",
       "<table border=\"1\" class=\"dataframe\">\n",
       "  <thead>\n",
       "    <tr style=\"text-align: right;\">\n",
       "      <th></th>\n",
       "      <th>nhits</th>\n",
       "      <th>parameters</th>\n",
       "      <th>records</th>\n",
       "      <th>facet_groups</th>\n",
       "    </tr>\n",
       "  </thead>\n",
       "  <tbody>\n",
       "    <tr>\n",
       "      <th>0</th>\n",
       "      <td>195</td>\n",
       "      <td>{'dataset': 'afluencia-diaria-del-metro-cdmx',...</td>\n",
       "      <td>[{'datasetid': 'afluencia-diaria-del-metro-cdm...</td>\n",
       "      <td>[{'facets': [{'count': 195, 'path': '2019', 's...</td>\n",
       "    </tr>\n",
       "  </tbody>\n",
       "</table>\n",
       "</div>"
      ],
      "text/plain": [
       "   nhits                                         parameters  \\\n",
       "0    195  {'dataset': 'afluencia-diaria-del-metro-cdmx',...   \n",
       "\n",
       "                                             records  \\\n",
       "0  [{'datasetid': 'afluencia-diaria-del-metro-cdm...   \n",
       "\n",
       "                                        facet_groups  \n",
       "0  [{'facets': [{'count': 195, 'path': '2019', 's...  "
      ]
     },
     "execution_count": 20,
     "metadata": {},
     "output_type": "execute_result"
    }
   ],
   "source": [
    "df"
   ]
  },
  {
   "cell_type": "code",
   "execution_count": 21,
   "metadata": {},
   "outputs": [],
   "source": [
    "dfparams=df['parameters'][0]"
   ]
  },
  {
   "cell_type": "code",
   "execution_count": 24,
   "metadata": {},
   "outputs": [
    {
     "data": {
      "text/plain": [
       "{'dataset': 'afluencia-diaria-del-metro-cdmx',\n",
       " 'refine': {'fecha': '2019-01-01'},\n",
       " 'timezone': 'UTC',\n",
       " 'rows': 10000,\n",
       " 'sort': ['-fecha'],\n",
       " 'format': 'json'}"
      ]
     },
     "execution_count": 24,
     "metadata": {},
     "output_type": "execute_result"
    }
   ],
   "source": [
    "dfparams"
   ]
  },
  {
   "cell_type": "code",
   "execution_count": 29,
   "metadata": {},
   "outputs": [
    {
     "data": {
      "text/plain": [
       "[{'facets': [{'count': 195,\n",
       "    'path': '2019',\n",
       "    'state': 'displayed',\n",
       "    'name': '2019'}],\n",
       "  'name': 'fecha'}]"
      ]
     },
     "execution_count": 29,
     "metadata": {},
     "output_type": "execute_result"
    }
   ],
   "source": [
    "dfacet_groups=df['facet_groups'][0]\n",
    "dfacet_groups"
   ]
  },
  {
   "cell_type": "code",
   "execution_count": 210,
   "metadata": {},
   "outputs": [],
   "source": [
    "prueba=dfacet_groups[0]"
   ]
  },
  {
   "cell_type": "code",
   "execution_count": 214,
   "metadata": {},
   "outputs": [
    {
     "data": {
      "text/plain": [
       "[{'count': 195, 'path': '2019', 'state': 'displayed', 'name': '2019'}]"
      ]
     },
     "execution_count": 214,
     "metadata": {},
     "output_type": "execute_result"
    }
   ],
   "source": [
    "prueba.get('facets')"
   ]
  },
  {
   "cell_type": "code",
   "execution_count": 216,
   "metadata": {},
   "outputs": [
    {
     "data": {
      "text/plain": [
       "195"
      ]
     },
     "execution_count": 216,
     "metadata": {},
     "output_type": "execute_result"
    }
   ],
   "source": [
    "prueba.get('facets')[0].get('count')"
   ]
  },
  {
   "cell_type": "code",
   "execution_count": null,
   "metadata": {},
   "outputs": [],
   "source": []
  },
  {
   "cell_type": "code",
   "execution_count": null,
   "metadata": {},
   "outputs": [],
   "source": []
  },
  {
   "cell_type": "code",
   "execution_count": 171,
   "metadata": {},
   "outputs": [],
   "source": [
    "with open('metro_2019-01-01.json') as complex_data:\n",
    "    data = complex_data.read()\n",
    "    numbers = json.loads(data)"
   ]
  },
  {
   "cell_type": "code",
   "execution_count": 172,
   "metadata": {},
   "outputs": [
    {
     "data": {
      "text/plain": [
       "'195'"
      ]
     },
     "execution_count": 172,
     "metadata": {},
     "output_type": "execute_result"
    }
   ],
   "source": [
    "data[10:13]"
   ]
  },
  {
   "cell_type": "code",
   "execution_count": 179,
   "metadata": {},
   "outputs": [],
   "source": [
    "#numbers"
   ]
  },
  {
   "cell_type": "code",
   "execution_count": 187,
   "metadata": {},
   "outputs": [
    {
     "data": {
      "text/html": [
       "<div>\n",
       "<style scoped>\n",
       "    .dataframe tbody tr th:only-of-type {\n",
       "        vertical-align: middle;\n",
       "    }\n",
       "\n",
       "    .dataframe tbody tr th {\n",
       "        vertical-align: top;\n",
       "    }\n",
       "\n",
       "    .dataframe thead th {\n",
       "        text-align: right;\n",
       "    }\n",
       "</style>\n",
       "<table border=\"1\" class=\"dataframe\">\n",
       "  <thead>\n",
       "    <tr style=\"text-align: right;\">\n",
       "      <th></th>\n",
       "      <th>datasetid</th>\n",
       "      <th>recordid</th>\n",
       "      <th>fields</th>\n",
       "      <th>record_timestamp</th>\n",
       "    </tr>\n",
       "  </thead>\n",
       "  <tbody>\n",
       "    <tr>\n",
       "      <th>afluencia</th>\n",
       "      <td>afluencia-diaria-del-metro-cdmx</td>\n",
       "      <td>400086b6463bbfe0151467f1e9ace23c6e4e5781</td>\n",
       "      <td>22076</td>\n",
       "      <td>2020-03-25T17:13:11.354000+00:00</td>\n",
       "    </tr>\n",
       "    <tr>\n",
       "      <th>anio</th>\n",
       "      <td>afluencia-diaria-del-metro-cdmx</td>\n",
       "      <td>400086b6463bbfe0151467f1e9ace23c6e4e5781</td>\n",
       "      <td>2019</td>\n",
       "      <td>2020-03-25T17:13:11.354000+00:00</td>\n",
       "    </tr>\n",
       "    <tr>\n",
       "      <th>estacion</th>\n",
       "      <td>afluencia-diaria-del-metro-cdmx</td>\n",
       "      <td>400086b6463bbfe0151467f1e9ace23c6e4e5781</td>\n",
       "      <td>Zaragoza</td>\n",
       "      <td>2020-03-25T17:13:11.354000+00:00</td>\n",
       "    </tr>\n",
       "    <tr>\n",
       "      <th>fecha</th>\n",
       "      <td>afluencia-diaria-del-metro-cdmx</td>\n",
       "      <td>400086b6463bbfe0151467f1e9ace23c6e4e5781</td>\n",
       "      <td>2019-01-01</td>\n",
       "      <td>2020-03-25T17:13:11.354000+00:00</td>\n",
       "    </tr>\n",
       "    <tr>\n",
       "      <th>linea</th>\n",
       "      <td>afluencia-diaria-del-metro-cdmx</td>\n",
       "      <td>400086b6463bbfe0151467f1e9ace23c6e4e5781</td>\n",
       "      <td>Linea 1</td>\n",
       "      <td>2020-03-25T17:13:11.354000+00:00</td>\n",
       "    </tr>\n",
       "  </tbody>\n",
       "</table>\n",
       "</div>"
      ],
      "text/plain": [
       "                                 datasetid  \\\n",
       "afluencia  afluencia-diaria-del-metro-cdmx   \n",
       "anio       afluencia-diaria-del-metro-cdmx   \n",
       "estacion   afluencia-diaria-del-metro-cdmx   \n",
       "fecha      afluencia-diaria-del-metro-cdmx   \n",
       "linea      afluencia-diaria-del-metro-cdmx   \n",
       "\n",
       "                                           recordid      fields  \\\n",
       "afluencia  400086b6463bbfe0151467f1e9ace23c6e4e5781       22076   \n",
       "anio       400086b6463bbfe0151467f1e9ace23c6e4e5781        2019   \n",
       "estacion   400086b6463bbfe0151467f1e9ace23c6e4e5781    Zaragoza   \n",
       "fecha      400086b6463bbfe0151467f1e9ace23c6e4e5781  2019-01-01   \n",
       "linea      400086b6463bbfe0151467f1e9ace23c6e4e5781     Linea 1   \n",
       "\n",
       "                           record_timestamp  \n",
       "afluencia  2020-03-25T17:13:11.354000+00:00  \n",
       "anio       2020-03-25T17:13:11.354000+00:00  \n",
       "estacion   2020-03-25T17:13:11.354000+00:00  \n",
       "fecha      2020-03-25T17:13:11.354000+00:00  \n",
       "linea      2020-03-25T17:13:11.354000+00:00  "
      ]
     },
     "execution_count": 187,
     "metadata": {},
     "output_type": "execute_result"
    }
   ],
   "source": [
    "pd.read_json(json_str,orient='records') #ec33a8dcf83dba40ce9b09e1f51f67acefe1a0ef"
   ]
  },
  {
   "cell_type": "code",
   "execution_count": 169,
   "metadata": {},
   "outputs": [
    {
     "data": {
      "text/plain": [
       "dtype('O')"
      ]
     },
     "execution_count": 169,
     "metadata": {},
     "output_type": "execute_result"
    }
   ],
   "source": [
    "el_json[0].dtype"
   ]
  },
  {
   "cell_type": "code",
   "execution_count": 170,
   "metadata": {},
   "outputs": [
    {
     "data": {
      "text/plain": [
       "datasetid                             afluencia-diaria-del-metro-cdmx\n",
       "recordid                     ec33a8dcf83dba40ce9b09e1f51f67acefe1a0ef\n",
       "fields              {'anio': '2019', 'estacion': 'Pantitlán', 'fec...\n",
       "record_timestamp                     2020-03-25T17:13:11.354000+00:00\n",
       "Name: 0, dtype: object"
      ]
     },
     "execution_count": 170,
     "metadata": {},
     "output_type": "execute_result"
    }
   ],
   "source": [
    "el_json[0]"
   ]
  },
  {
   "cell_type": "code",
   "execution_count": 141,
   "metadata": {},
   "outputs": [
    {
     "data": {
      "text/html": [
       "<div>\n",
       "<style scoped>\n",
       "    .dataframe tbody tr th:only-of-type {\n",
       "        vertical-align: middle;\n",
       "    }\n",
       "\n",
       "    .dataframe tbody tr th {\n",
       "        vertical-align: top;\n",
       "    }\n",
       "\n",
       "    .dataframe thead th {\n",
       "        text-align: right;\n",
       "    }\n",
       "</style>\n",
       "<table border=\"1\" class=\"dataframe\">\n",
       "  <thead>\n",
       "    <tr style=\"text-align: right;\">\n",
       "      <th></th>\n",
       "      <th>0</th>\n",
       "    </tr>\n",
       "  </thead>\n",
       "  <tbody>\n",
       "    <tr>\n",
       "      <th>datasetid</th>\n",
       "      <td>afluencia-diaria-del-metro-cdmx</td>\n",
       "    </tr>\n",
       "    <tr>\n",
       "      <th>recordid</th>\n",
       "      <td>ec33a8dcf83dba40ce9b09e1f51f67acefe1a0ef</td>\n",
       "    </tr>\n",
       "    <tr>\n",
       "      <th>fields</th>\n",
       "      <td>{'anio': '2019', 'estacion': 'Pantitlán', 'fec...</td>\n",
       "    </tr>\n",
       "  </tbody>\n",
       "</table>\n",
       "</div>"
      ],
      "text/plain": [
       "                                                           0\n",
       "datasetid                    afluencia-diaria-del-metro-cdmx\n",
       "recordid            ec33a8dcf83dba40ce9b09e1f51f67acefe1a0ef\n",
       "fields     {'anio': '2019', 'estacion': 'Pantitlán', 'fec..."
      ]
     },
     "execution_count": 141,
     "metadata": {},
     "output_type": "execute_result"
    }
   ],
   "source": [
    "el_json[:'fields']"
   ]
  },
  {
   "cell_type": "code",
   "execution_count": 142,
   "metadata": {},
   "outputs": [
    {
     "data": {
      "text/plain": [
       "0    {'anio': '2019', 'estacion': 'Pantitlán', 'fec...\n",
       "Name: fields, dtype: object"
      ]
     },
     "execution_count": 142,
     "metadata": {},
     "output_type": "execute_result"
    }
   ],
   "source": [
    "el_json.loc['fields']"
   ]
  },
  {
   "cell_type": "code",
   "execution_count": 143,
   "metadata": {},
   "outputs": [
    {
     "data": {
      "text/plain": [
       "(1,)"
      ]
     },
     "execution_count": 143,
     "metadata": {},
     "output_type": "execute_result"
    }
   ],
   "source": [
    "el_json.loc['fields'].shape"
   ]
  },
  {
   "cell_type": "code",
   "execution_count": 144,
   "metadata": {},
   "outputs": [
    {
     "data": {
      "text/plain": [
       "dtype('O')"
      ]
     },
     "execution_count": 144,
     "metadata": {},
     "output_type": "execute_result"
    }
   ],
   "source": [
    "el_json.loc['fields'].dtype"
   ]
  },
  {
   "cell_type": "code",
   "execution_count": 145,
   "metadata": {},
   "outputs": [
    {
     "data": {
      "text/plain": [
       "pandas.core.series.Series"
      ]
     },
     "execution_count": 145,
     "metadata": {},
     "output_type": "execute_result"
    }
   ],
   "source": [
    "type(el_json.loc['fields'])"
   ]
  },
  {
   "cell_type": "code",
   "execution_count": 183,
   "metadata": {},
   "outputs": [
    {
     "data": {
      "text/plain": [
       "{'anio': '2019',\n",
       " 'estacion': 'Pantitlán',\n",
       " 'fecha': '2019-01-01',\n",
       " 'linea': 'Linea 1',\n",
       " 'afluencia': '14452'}"
      ]
     },
     "execution_count": 183,
     "metadata": {},
     "output_type": "execute_result"
    }
   ],
   "source": [
    "el_json.loc['fields'][0]"
   ]
  },
  {
   "cell_type": "code",
   "execution_count": 189,
   "metadata": {},
   "outputs": [
    {
     "data": {
      "text/html": [
       "<div>\n",
       "<style scoped>\n",
       "    .dataframe tbody tr th:only-of-type {\n",
       "        vertical-align: middle;\n",
       "    }\n",
       "\n",
       "    .dataframe tbody tr th {\n",
       "        vertical-align: top;\n",
       "    }\n",
       "\n",
       "    .dataframe thead th {\n",
       "        text-align: right;\n",
       "    }\n",
       "</style>\n",
       "<table border=\"1\" class=\"dataframe\">\n",
       "  <thead>\n",
       "    <tr style=\"text-align: right;\">\n",
       "      <th></th>\n",
       "      <th>anio</th>\n",
       "      <th>estacion</th>\n",
       "      <th>fecha</th>\n",
       "      <th>linea</th>\n",
       "      <th>afluencia</th>\n",
       "    </tr>\n",
       "  </thead>\n",
       "  <tbody>\n",
       "  </tbody>\n",
       "</table>\n",
       "</div>"
      ],
      "text/plain": [
       "Empty DataFrame\n",
       "Columns: [anio, estacion, fecha, linea, afluencia]\n",
       "Index: []"
      ]
     },
     "execution_count": 189,
     "metadata": {},
     "output_type": "execute_result"
    }
   ],
   "source": [
    "f.add(a_ver)"
   ]
  },
  {
   "cell_type": "code",
   "execution_count": 190,
   "metadata": {},
   "outputs": [],
   "source": [
    "import numpy as np"
   ]
  },
  {
   "cell_type": "code",
   "execution_count": 191,
   "metadata": {},
   "outputs": [
    {
     "data": {
      "text/plain": [
       "array([[{'anio': '2019', 'estacion': 'Pantitlán', 'fecha': '2019-01-01', 'linea': 'Linea 1', 'afluencia': '14452'}]],\n",
       "      dtype=object)"
      ]
     },
     "execution_count": 191,
     "metadata": {},
     "output_type": "execute_result"
    }
   ],
   "source": [
    "holis=np.row_stack([a_ver])\n",
    "holis"
   ]
  },
  {
   "cell_type": "code",
   "execution_count": 192,
   "metadata": {},
   "outputs": [],
   "source": [
    "#anio,estacion,fecha,linea,afluencia =holis"
   ]
  },
  {
   "cell_type": "code",
   "execution_count": 193,
   "metadata": {},
   "outputs": [
    {
     "data": {
      "text/plain": [
       "dict"
      ]
     },
     "execution_count": 193,
     "metadata": {},
     "output_type": "execute_result"
    }
   ],
   "source": [
    "type(a_ver)"
   ]
  },
  {
   "cell_type": "code",
   "execution_count": 196,
   "metadata": {},
   "outputs": [
    {
     "data": {
      "text/plain": [
       "Index(['anio', 'estacion', 'fecha', 'linea', 'afluencia'], dtype='object')"
      ]
     },
     "execution_count": 196,
     "metadata": {},
     "output_type": "execute_result"
    }
   ],
   "source": [
    "f.columns"
   ]
  },
  {
   "cell_type": "code",
   "execution_count": 197,
   "metadata": {},
   "outputs": [
    {
     "data": {
      "text/html": [
       "<div>\n",
       "<style scoped>\n",
       "    .dataframe tbody tr th:only-of-type {\n",
       "        vertical-align: middle;\n",
       "    }\n",
       "\n",
       "    .dataframe tbody tr th {\n",
       "        vertical-align: top;\n",
       "    }\n",
       "\n",
       "    .dataframe thead th {\n",
       "        text-align: right;\n",
       "    }\n",
       "</style>\n",
       "<table border=\"1\" class=\"dataframe\">\n",
       "  <thead>\n",
       "    <tr style=\"text-align: right;\">\n",
       "      <th></th>\n",
       "      <th>anio</th>\n",
       "      <th>estacion</th>\n",
       "      <th>fecha</th>\n",
       "      <th>linea</th>\n",
       "      <th>afluencia</th>\n",
       "    </tr>\n",
       "  </thead>\n",
       "  <tbody>\n",
       "    <tr>\n",
       "      <th>0</th>\n",
       "      <td>2019</td>\n",
       "      <td>Pantitlán</td>\n",
       "      <td>2019-01-01</td>\n",
       "      <td>Linea 1</td>\n",
       "      <td>14452</td>\n",
       "    </tr>\n",
       "  </tbody>\n",
       "</table>\n",
       "</div>"
      ],
      "text/plain": [
       "   anio   estacion       fecha    linea afluencia\n",
       "0  2019  Pantitlán  2019-01-01  Linea 1     14452"
      ]
     },
     "execution_count": 197,
     "metadata": {},
     "output_type": "execute_result"
    }
   ],
   "source": [
    "nuevo"
   ]
  },
  {
   "cell_type": "code",
   "execution_count": 198,
   "metadata": {},
   "outputs": [
    {
     "data": {
      "text/plain": [
       "Index(['anio', 'estacion', 'fecha', 'linea', 'afluencia'], dtype='object')"
      ]
     },
     "execution_count": 198,
     "metadata": {},
     "output_type": "execute_result"
    }
   ],
   "source": [
    "nuevo.columns"
   ]
  },
  {
   "cell_type": "code",
   "execution_count": 199,
   "metadata": {},
   "outputs": [],
   "source": [
    "f.columns=nuevo.columns"
   ]
  },
  {
   "cell_type": "code",
   "execution_count": 200,
   "metadata": {},
   "outputs": [
    {
     "data": {
      "text/plain": [
       "Index(['anio', 'estacion', 'fecha', 'linea', 'afluencia'], dtype='object')"
      ]
     },
     "execution_count": 200,
     "metadata": {},
     "output_type": "execute_result"
    }
   ],
   "source": [
    "f.columns"
   ]
  },
  {
   "cell_type": "code",
   "execution_count": 201,
   "metadata": {},
   "outputs": [
    {
     "data": {
      "text/html": [
       "<div>\n",
       "<style scoped>\n",
       "    .dataframe tbody tr th:only-of-type {\n",
       "        vertical-align: middle;\n",
       "    }\n",
       "\n",
       "    .dataframe tbody tr th {\n",
       "        vertical-align: top;\n",
       "    }\n",
       "\n",
       "    .dataframe thead th {\n",
       "        text-align: right;\n",
       "    }\n",
       "</style>\n",
       "<table border=\"1\" class=\"dataframe\">\n",
       "  <thead>\n",
       "    <tr style=\"text-align: right;\">\n",
       "      <th></th>\n",
       "      <th>anio</th>\n",
       "      <th>estacion</th>\n",
       "      <th>fecha</th>\n",
       "      <th>linea</th>\n",
       "      <th>afluencia</th>\n",
       "    </tr>\n",
       "  </thead>\n",
       "  <tbody>\n",
       "    <tr>\n",
       "      <th>0</th>\n",
       "      <td>2019</td>\n",
       "      <td>Pantitlán</td>\n",
       "      <td>2019-01-01</td>\n",
       "      <td>Linea 1</td>\n",
       "      <td>14452</td>\n",
       "    </tr>\n",
       "  </tbody>\n",
       "</table>\n",
       "</div>"
      ],
      "text/plain": [
       "   anio   estacion       fecha    linea afluencia\n",
       "0  2019  Pantitlán  2019-01-01  Linea 1     14452"
      ]
     },
     "execution_count": 201,
     "metadata": {},
     "output_type": "execute_result"
    }
   ],
   "source": [
    "f.append(nuevo)"
   ]
  },
  {
   "cell_type": "code",
   "execution_count": null,
   "metadata": {},
   "outputs": [],
   "source": []
  },
  {
   "cell_type": "code",
   "execution_count": null,
   "metadata": {},
   "outputs": [],
   "source": []
  }
 ],
 "metadata": {
  "kernelspec": {
   "display_name": "Python 3",
   "language": "python",
   "name": "python3"
  },
  "language_info": {
   "codemirror_mode": {
    "name": "ipython",
    "version": 3
   },
   "file_extension": ".py",
   "mimetype": "text/x-python",
   "name": "python",
   "nbconvert_exporter": "python",
   "pygments_lexer": "ipython3",
   "version": "3.8.2"
  }
 },
 "nbformat": 4,
 "nbformat_minor": 4
}
