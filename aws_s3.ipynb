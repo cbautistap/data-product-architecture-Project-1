{
 "cells": [
  {
   "cell_type": "markdown",
   "metadata": {},
   "source": [
    "![](../docs/images/itam_logo.png)\n",
    "\n",
    "M. Sc. Liliana Millán Núñez liliana.millan@itam.mx\n",
    "\n",
    "Febrero 2020\n",
    "\n",
    "\n",
    "## AWS with Python"
   ]
  },
  {
   "cell_type": "code",
   "execution_count": 3,
   "metadata": {},
   "outputs": [],
   "source": [
    "import boto3 "
   ]
  },
  {
   "cell_type": "code",
   "execution_count": 4,
   "metadata": {},
   "outputs": [
    {
     "name": "stdout",
     "output_type": "stream",
     "text": [
      "1.12.11\n"
     ]
    }
   ],
   "source": [
    "# saber qué versión de Boto estamos ocupando\n",
    "print(boto3.__version__)"
   ]
  },
  {
   "cell_type": "markdown",
   "metadata": {},
   "source": [
    "Si tienes tu archivo `~/.aws/credentials` puedes ocupar dentro del objeto `Session`, qué perfil vas a ocupar para conectarte a AWS, también es posible indicar la región y las credenciales asociadas, aunque esto **no** se recomienda, en este caso es mejor poner las llaves en plano en algún archivo `json` en tu computadora y leerlos desde ahí para que **no** subas tus llaves al repositorio!."
   ]
  },
  {
   "cell_type": "code",
   "execution_count": 6,
   "metadata": {},
   "outputs": [],
   "source": [
    "ses = boto3.session.Session(profile_name='gabster', region_name='us-west-2')"
   ]
  },
  {
   "cell_type": "code",
   "execution_count": 7,
   "metadata": {},
   "outputs": [],
   "source": [
    "s3 = ses.resource('s3')"
   ]
  },
  {
   "cell_type": "code",
   "execution_count": 13,
   "metadata": {},
   "outputs": [
    {
     "name": "stdout",
     "output_type": "stream",
     "text": [
      "test-aws-gab\n"
     ]
    }
   ],
   "source": [
    "# listar los buckets que están en este perfil y región.\n",
    "for bucket in s3.buckets.all():\n",
    "    print(bucket.name)"
   ]
  },
  {
   "cell_type": "markdown",
   "metadata": {},
   "source": [
    "### Creación de un bucket\n",
    "\n",
    "+ Por default los *buckets* son creados en la región *US East (N. Virginia)* `us-east-1`, necesitarás definir en qué región quieres crear el *bucket*. \n",
    "+ Los nombres de buckets **no** pueden llevar guiónes bajos, te marcará que el nombre es inválido, en lugar de los guiones bajos puedes ocupar guiónes altos."
   ]
  },
  {
   "cell_type": "code",
   "execution_count": 12,
   "metadata": {},
   "outputs": [
    {
     "data": {
      "text/plain": [
       "s3.Bucket(name='test-aws-gab')"
      ]
     },
     "execution_count": 12,
     "metadata": {},
     "output_type": "execute_result"
    }
   ],
   "source": [
    "#crear un bucket\n",
    "bucket_name = 'test-aws-gab'\n",
    "\n",
    "s3.create_bucket(Bucket=bucket_name, \n",
    "                 CreateBucketConfiguration={'LocationConstraint': 'us-west-2'},\n",
    "                ACL='private')"
   ]
  },
  {
   "cell_type": "markdown",
   "metadata": {},
   "source": [
    "### Descargamos el archivo con la base de datos"
   ]
  },
  {
   "cell_type": "code",
   "execution_count": 23,
   "metadata": {},
   "outputs": [],
   "source": [
    "import csv\n",
    "import urllib.request as requests\n",
    "import io"
   ]
  },
  {
   "cell_type": "code",
   "execution_count": 31,
   "metadata": {},
   "outputs": [],
   "source": [
    "import time\n",
    "import pandas as pd"
   ]
  },
  {
   "cell_type": "code",
   "execution_count": 38,
   "metadata": {},
   "outputs": [
    {
     "name": "stdout",
     "output_type": "stream",
     "text": [
      "0.6902999877929688\n"
     ]
    }
   ],
   "source": [
    "start = time.time()\n",
    "url = 'https://datos.cdmx.gob.mx/explore/dataset/afluencia-diaria-del-metro-cdmx/download/?format=csv&refine.ano=2019&refine.linea=Linea+3&refine.estacion=Potrero&timezone=America/Mexico_City&lang=es&use_labels_for_header=true&csv_separator=%2C'\n",
    "url_open = requests.urlopen(url)\n",
    "csvfile = csv.reader(io.StringIO(url_open.read().decode('utf-8')), delimiter=',')\n",
    "end = time.time()\n",
    "print(end - start)"
   ]
  },
  {
   "cell_type": "code",
   "execution_count": 39,
   "metadata": {},
   "outputs": [
    {
     "name": "stdout",
     "output_type": "stream",
     "text": [
      "Fecha, Dia, Mes, Año, Linea, Estacion, Afluencia\n",
      "2019-01-01, 1, enero, 2019, Linea 3, Potrero, 5448\n",
      "2019-03-01, 3, enero, 2019, Linea 3, Potrero, 14899\n",
      "2019-04-01, 4, enero, 2019, Linea 3, Potrero, 16301\n",
      "2019-01-14, 14, enero, 2019, Linea 3, Potrero, 16773\n",
      "2019-01-19, 19, enero, 2019, Linea 3, Potrero, 17314\n",
      "2019-01-22, 22, enero, 2019, Linea 3, Potrero, 16526\n",
      "2019-01-26, 26, enero, 2019, Linea 3, Potrero, 17629\n",
      "2019-01-30, 30, enero, 2019, Linea 3, Potrero, 18814\n",
      "2019-02-02, 2, febrero, 2019, Linea 3, Potrero, 16669\n",
      "2019-07-02, 7, febrero, 2019, Linea 3, Potrero, 20766\n",
      "2019-08-02, 8, febrero, 2019, Linea 3, Potrero, 19479\n",
      "2019-09-02, 9, febrero, 2019, Linea 3, Potrero, 18891\n",
      "2019-10-02, 10, febrero, 2019, Linea 3, Potrero, 9475\n",
      "2019-02-13, 13, febrero, 2019, Linea 3, Potrero, 18453\n",
      "2019-02-06, 2, junio, 2019, Linea 3, Potrero, 10914\n",
      "2019-10-06, 10, junio, 2019, Linea 3, Potrero, 18215\n",
      "2019-12-06, 12, junio, 2019, Linea 3, Potrero, 16652\n",
      "2019-06-24, 24, junio, 2019, Linea 3, Potrero, 15250\n",
      "2019-06-29, 29, junio, 2019, Linea 3, Potrero, 16113\n",
      "2019-04-07, 4, julio, 2019, Linea 3, Potrero, 18403\n",
      "2019-05-07, 5, julio, 2019, Linea 3, Potrero, 14882\n",
      "2019-08-07, 8, julio, 2019, Linea 3, Potrero, 18448\n",
      "2019-09-07, 9, julio, 2019, Linea 3, Potrero, 18717\n",
      "2019-10-07, 10, julio, 2019, Linea 3, Potrero, 15474\n",
      "2019-12-07, 12, julio, 2019, Linea 3, Potrero, 17962\n",
      "2019-07-13, 13, julio, 2019, Linea 3, Potrero, 14963\n",
      "2019-07-16, 16, julio, 2019, Linea 3, Potrero, 17489\n",
      "2019-07-20, 20, julio, 2019, Linea 3, Potrero, 13171\n",
      "2019-07-23, 23, julio, 2019, Linea 3, Potrero, 15990\n",
      "2019-07-27, 27, julio, 2019, Linea 3, Potrero, 12245\n",
      "2019-07-24, 24, julio, 2019, Linea 3, Potrero, 15455\n",
      "2019-07-26, 26, julio, 2019, Linea 3, Potrero, 17003\n",
      "2019-07-30, 30, julio, 2019, Linea 3, Potrero, 16556\n",
      "2019-07-28, 28, julio, 2019, Linea 3, Potrero, 12060\n",
      "2019-01-08, 1, agosto, 2019, Linea 3, Potrero, 18618\n",
      "2019-07-29, 29, julio, 2019, Linea 3, Potrero, 17646\n",
      "2019-02-08, 2, agosto, 2019, Linea 3, Potrero, 19215\n",
      "2019-03-08, 3, agosto, 2019, Linea 3, Potrero, 14696\n",
      "2019-07-31, 31, julio, 2019, Linea 3, Potrero, 17782\n",
      "2019-08-08, 8, agosto, 2019, Linea 3, Potrero, 20203\n",
      "2019-05-08, 5, agosto, 2019, Linea 3, Potrero, 19766\n",
      "2019-09-08, 9, agosto, 2019, Linea 3, Potrero, 20123\n",
      "2019-07-08, 7, agosto, 2019, Linea 3, Potrero, 19006\n",
      "2019-11-08, 11, agosto, 2019, Linea 3, Potrero, 10673\n",
      "2019-10-08, 10, agosto, 2019, Linea 3, Potrero, 15999\n",
      "2019-08-15, 15, agosto, 2019, Linea 3, Potrero, 22183\n",
      "2019-08-13, 13, agosto, 2019, Linea 3, Potrero, 20410\n",
      "2019-08-14, 14, agosto, 2019, Linea 3, Potrero, 20166\n",
      "2019-08-19, 19, agosto, 2019, Linea 3, Potrero, 19236\n",
      "2019-08-16, 16, agosto, 2019, Linea 3, Potrero, 17872\n",
      "2019-08-20, 20, agosto, 2019, Linea 3, Potrero, 19717\n",
      "2019-08-17, 17, agosto, 2019, Linea 3, Potrero, 16296\n",
      "2019-08-22, 22, agosto, 2019, Linea 3, Potrero, 20141\n",
      "2019-08-23, 23, agosto, 2019, Linea 3, Potrero, 21268\n",
      "2019-08-24, 24, agosto, 2019, Linea 3, Potrero, 18122\n",
      "2019-08-29, 29, agosto, 2019, Linea 3, Potrero, 21677\n",
      "2019-08-28, 28, agosto, 2019, Linea 3, Potrero, 22878\n",
      "2019-01-09, 1, septiembre, 2019, Linea 3, Potrero, 11210\n",
      "2019-02-09, 2, septiembre, 2019, Linea 3, Potrero, 20056\n",
      "2019-08-31, 31, agosto, 2019, Linea 3, Potrero, 16156\n",
      "2019-04-09, 4, septiembre, 2019, Linea 3, Potrero, 18846\n",
      "2019-05-09, 5, septiembre, 2019, Linea 3, Potrero, 21238\n",
      "2019-11-04, 11, abril, 2019, Linea 3, Potrero, 20495\n",
      "2019-09-09, 9, septiembre, 2019, Linea 3, Potrero, 20278\n",
      "2019-03-06, 3, junio, 2019, Linea 3, Potrero, 17324\n",
      "2019-04-17, 17, abril, 2019, Linea 3, Potrero, 17613\n",
      "2019-05-06, 5, junio, 2019, Linea 3, Potrero, 17859\n",
      "2019-04-18, 18, abril, 2019, Linea 3, Potrero, 13077\n",
      "2019-04-19, 19, abril, 2019, Linea 3, Potrero, 7815\n",
      "2019-07-06, 7, junio, 2019, Linea 3, Potrero, 16997\n",
      "2019-04-20, 20, abril, 2019, Linea 3, Potrero, 9427\n",
      "2019-08-06, 8, junio, 2019, Linea 3, Potrero, 17026\n",
      "2019-09-06, 9, junio, 2019, Linea 3, Potrero, 10297\n",
      "2019-11-06, 11, junio, 2019, Linea 3, Potrero, 20380\n",
      "2019-06-13, 13, junio, 2019, Linea 3, Potrero, 20223\n",
      "2019-06-14, 14, junio, 2019, Linea 3, Potrero, 20267\n",
      "2019-06-15, 15, junio, 2019, Linea 3, Potrero, 14342\n",
      "2019-04-29, 29, abril, 2019, Linea 3, Potrero, 18973\n",
      "2019-06-20, 20, junio, 2019, Linea 3, Potrero, 18502\n",
      "2019-03-05, 3, mayo, 2019, Linea 3, Potrero, 18672\n",
      "2019-06-21, 21, junio, 2019, Linea 3, Potrero, 17982\n",
      "2019-06-22, 22, junio, 2019, Linea 3, Potrero, 14522\n",
      "2019-05-05, 5, mayo, 2019, Linea 3, Potrero, 9576\n",
      "2019-09-05, 9, mayo, 2019, Linea 3, Potrero, 19377\n",
      "2019-06-30, 30, junio, 2019, Linea 3, Potrero, 10733\n",
      "2019-01-07, 1, julio, 2019, Linea 3, Potrero, 17947\n",
      "2019-02-07, 2, julio, 2019, Linea 3, Potrero, 17813\n",
      "2019-03-07, 3, julio, 2019, Linea 3, Potrero, 17840\n",
      "2019-05-19, 19, mayo, 2019, Linea 3, Potrero, 11024\n",
      "2019-05-22, 22, mayo, 2019, Linea 3, Potrero, 19179\n",
      "2019-05-24, 24, mayo, 2019, Linea 3, Potrero, 19390\n",
      "2019-05-25, 25, mayo, 2019, Linea 3, Potrero, 18569\n",
      "2019-07-14, 14, julio, 2019, Linea 3, Potrero, 0\n",
      "2019-05-27, 27, mayo, 2019, Linea 3, Potrero, 17875\n",
      "2019-07-15, 15, julio, 2019, Linea 3, Potrero, 14768\n",
      "2019-07-17, 17, julio, 2019, Linea 3, Potrero, 15004\n",
      "2019-11-09, 11, septiembre, 2019, Linea 3, Potrero, 17305\n",
      "2019-07-19, 19, julio, 2019, Linea 3, Potrero, 19004\n",
      "2019-09-13, 13, septiembre, 2019, Linea 3, Potrero, 20243\n",
      "2019-09-14, 14, septiembre, 2019, Linea 3, Potrero, 17629\n",
      "2019-09-16, 16, septiembre, 2019, Linea 3, Potrero, 8968\n",
      "2019-09-17, 17, septiembre, 2019, Linea 3, Potrero, 20045\n",
      "2019-09-18, 18, septiembre, 2019, Linea 3, Potrero, 22509\n",
      "2019-09-19, 19, septiembre, 2019, Linea 3, Potrero, 18994\n",
      "2019-09-20, 20, septiembre, 2019, Linea 3, Potrero, 20643\n",
      "2019-09-30, 30, septiembre, 2019, Linea 3, Potrero, 19186\n",
      "2019-01-10, 1, octubre, 2019, Linea 3, Potrero, 22521\n",
      "2019-05-10, 5, octubre, 2019, Linea 3, Potrero, 14937\n",
      "2019-07-10, 7, octubre, 2019, Linea 3, Potrero, 19083\n",
      "2019-10-19, 19, octubre, 2019, Linea 3, Potrero, 20105\n",
      "2019-10-22, 22, octubre, 2019, Linea 3, Potrero, 19457\n",
      "2019-10-23, 23, octubre, 2019, Linea 3, Potrero, 18682\n",
      "2019-10-30, 30, octubre, 2019, Linea 3, Potrero, 21769\n",
      "2019-02-17, 17, febrero, 2019, Linea 3, Potrero, 10995\n",
      "2019-02-20, 20, febrero, 2019, Linea 3, Potrero, 20431\n",
      "2019-02-28, 28, febrero, 2019, Linea 3, Potrero, 20273\n",
      "2019-01-03, 1, marzo, 2019, Linea 3, Potrero, 23109\n",
      "2019-06-03, 6, marzo, 2019, Linea 3, Potrero, 20712\n",
      "2019-07-03, 7, marzo, 2019, Linea 3, Potrero, 17533\n",
      "2019-12-03, 12, marzo, 2019, Linea 3, Potrero, 18759\n",
      "2019-03-15, 15, marzo, 2019, Linea 3, Potrero, 21133\n",
      "2019-03-16, 16, marzo, 2019, Linea 3, Potrero, 16892\n",
      "2019-03-22, 22, marzo, 2019, Linea 3, Potrero, 18012\n",
      "2019-03-26, 26, marzo, 2019, Linea 3, Potrero, 19407\n",
      "2019-03-30, 30, marzo, 2019, Linea 3, Potrero, 16127\n",
      "2019-12-09, 12, septiembre, 2019, Linea 3, Potrero, 21005\n",
      "2019-09-15, 15, septiembre, 2019, Linea 3, Potrero, 9779\n",
      "2019-09-21, 21, septiembre, 2019, Linea 3, Potrero, 15670\n",
      "2019-09-23, 23, septiembre, 2019, Linea 3, Potrero, 20140\n",
      "2019-09-24, 24, septiembre, 2019, Linea 3, Potrero, 17722\n",
      "2019-09-26, 26, septiembre, 2019, Linea 3, Potrero, 21957\n",
      "2019-09-27, 27, septiembre, 2019, Linea 3, Potrero, 21378\n",
      "2019-09-29, 29, septiembre, 2019, Linea 3, Potrero, 10759\n",
      "2019-02-10, 2, octubre, 2019, Linea 3, Potrero, 17172\n",
      "2019-08-10, 8, octubre, 2019, Linea 3, Potrero, 21290\n",
      "2019-09-10, 9, octubre, 2019, Linea 3, Potrero, 19104\n",
      "2019-10-13, 13, octubre, 2019, Linea 3, Potrero, 9637\n",
      "2019-10-14, 14, octubre, 2019, Linea 3, Potrero, 17854\n",
      "2019-10-15, 15, octubre, 2019, Linea 3, Potrero, 21093\n",
      "2019-10-16, 16, octubre, 2019, Linea 3, Potrero, 18074\n",
      "2019-10-18, 18, octubre, 2019, Linea 3, Potrero, 18043\n",
      "2019-10-24, 24, octubre, 2019, Linea 3, Potrero, 22350\n",
      "2019-10-25, 25, octubre, 2019, Linea 3, Potrero, 19715\n",
      "2019-10-26, 26, octubre, 2019, Linea 3, Potrero, 18740\n",
      "2019-10-28, 28, octubre, 2019, Linea 3, Potrero, 21981\n",
      "2019-10-04, 10, abril, 2019, Linea 3, Potrero, 20057\n",
      "2019-12-04, 12, abril, 2019, Linea 3, Potrero, 21050\n",
      "2019-04-14, 14, abril, 2019, Linea 3, Potrero, 9526\n",
      "2019-04-15, 15, abril, 2019, Linea 3, Potrero, 20876\n",
      "2019-04-16, 16, abril, 2019, Linea 3, Potrero, 17105\n",
      "2019-04-22, 22, abril, 2019, Linea 3, Potrero, 16979\n",
      "2019-04-23, 23, abril, 2019, Linea 3, Potrero, 17906\n",
      "2019-04-27, 27, abril, 2019, Linea 3, Potrero, 15954\n",
      "2019-04-05, 4, mayo, 2019, Linea 3, Potrero, 17312\n",
      "2019-07-05, 7, mayo, 2019, Linea 3, Potrero, 19616\n",
      "2019-08-05, 8, mayo, 2019, Linea 3, Potrero, 19455\n",
      "2019-10-05, 10, mayo, 2019, Linea 3, Potrero, 14908\n",
      "2019-11-05, 11, mayo, 2019, Linea 3, Potrero, 15394\n",
      "2019-12-05, 12, mayo, 2019, Linea 3, Potrero, 10364\n",
      "2019-05-13, 13, mayo, 2019, Linea 3, Potrero, 19080\n",
      "2019-05-18, 18, mayo, 2019, Linea 3, Potrero, 15219\n",
      "2019-05-21, 21, mayo, 2019, Linea 3, Potrero, 20376\n",
      "2019-05-23, 23, mayo, 2019, Linea 3, Potrero, 20027\n",
      "2019-05-28, 28, mayo, 2019, Linea 3, Potrero, 21459\n",
      "2019-05-29, 29, mayo, 2019, Linea 3, Potrero, 17100\n",
      "2019-10-31, 31, octubre, 2019, Linea 3, Potrero, 20515\n",
      "2019-02-24, 24, febrero, 2019, Linea 3, Potrero, 10183\n",
      "2019-02-25, 25, febrero, 2019, Linea 3, Potrero, 17605\n",
      "2019-02-26, 26, febrero, 2019, Linea 3, Potrero, 21677\n",
      "2019-02-27, 27, febrero, 2019, Linea 3, Potrero, 18823\n",
      "2019-02-03, 2, marzo, 2019, Linea 3, Potrero, 15720\n",
      "2019-04-03, 4, marzo, 2019, Linea 3, Potrero, 19246\n",
      "2019-05-03, 5, marzo, 2019, Linea 3, Potrero, 18756\n",
      "2019-08-03, 8, marzo, 2019, Linea 3, Potrero, 22097\n",
      "2019-09-03, 9, marzo, 2019, Linea 3, Potrero, 17646\n",
      "2019-10-03, 10, marzo, 2019, Linea 3, Potrero, 12452\n",
      "2019-03-13, 13, marzo, 2019, Linea 3, Potrero, 17765\n",
      "2019-03-18, 18, marzo, 2019, Linea 3, Potrero, 14000\n",
      "2019-03-19, 19, marzo, 2019, Linea 3, Potrero, 19671\n",
      "2019-03-23, 23, marzo, 2019, Linea 3, Potrero, 18364\n",
      "2019-03-24, 24, marzo, 2019, Linea 3, Potrero, 11450\n",
      "2019-03-27, 27, marzo, 2019, Linea 3, Potrero, 19747\n",
      "2019-06-04, 6, abril, 2019, Linea 3, Potrero, 16035\n",
      "2019-07-04, 7, abril, 2019, Linea 3, Potrero, 10229\n",
      "2019-08-04, 8, abril, 2019, Linea 3, Potrero, 19620\n",
      "2019-09-04, 9, abril, 2019, Linea 3, Potrero, 19941\n",
      "2019-04-13, 13, abril, 2019, Linea 3, Potrero, 16183\n",
      "2019-04-21, 21, abril, 2019, Linea 3, Potrero, 9732\n",
      "2019-04-24, 24, abril, 2019, Linea 3, Potrero, 17456\n",
      "2019-04-25, 25, abril, 2019, Linea 3, Potrero, 16753\n",
      "2019-04-26, 26, abril, 2019, Linea 3, Potrero, 18147\n",
      "2019-04-28, 28, abril, 2019, Linea 3, Potrero, 11628\n",
      "2019-04-30, 30, abril, 2019, Linea 3, Potrero, 19298\n",
      "2019-01-05, 1, mayo, 2019, Linea 3, Potrero, 11642\n",
      "2019-02-05, 2, mayo, 2019, Linea 3, Potrero, 18989\n",
      "2019-06-05, 6, mayo, 2019, Linea 3, Potrero, 20240\n",
      "2019-05-14, 14, mayo, 2019, Linea 3, Potrero, 18968\n",
      "2019-05-15, 15, mayo, 2019, Linea 3, Potrero, 17436\n",
      "2019-05-16, 16, mayo, 2019, Linea 3, Potrero, 15185\n",
      "2019-05-17, 17, mayo, 2019, Linea 3, Potrero, 16655\n",
      "2019-05-20, 20, mayo, 2019, Linea 3, Potrero, 18779\n",
      "2019-05-26, 26, mayo, 2019, Linea 3, Potrero, 11038\n",
      "2019-05-01, 5, enero, 2019, Linea 3, Potrero, 17572\n",
      "2019-06-01, 6, enero, 2019, Linea 3, Potrero, 8699\n",
      "2019-09-01, 9, enero, 2019, Linea 3, Potrero, 17363\n",
      "2019-10-01, 10, enero, 2019, Linea 3, Potrero, 17552\n",
      "2019-12-01, 12, enero, 2019, Linea 3, Potrero, 13488\n",
      "2019-01-17, 17, enero, 2019, Linea 3, Potrero, 19665\n",
      "2019-01-18, 18, enero, 2019, Linea 3, Potrero, 16114\n",
      "2019-01-21, 21, enero, 2019, Linea 3, Potrero, 18585\n",
      "2019-01-27, 27, enero, 2019, Linea 3, Potrero, 10167\n",
      "2019-01-28, 28, enero, 2019, Linea 3, Potrero, 20481\n",
      "2019-04-02, 4, febrero, 2019, Linea 3, Potrero, 10033\n",
      "2019-06-02, 6, febrero, 2019, Linea 3, Potrero, 18075\n",
      "2019-11-02, 11, febrero, 2019, Linea 3, Potrero, 21368\n",
      "2019-02-15, 15, febrero, 2019, Linea 3, Potrero, 22724\n",
      "2019-05-30, 30, mayo, 2019, Linea 3, Potrero, 20833\n",
      "2019-05-31, 31, mayo, 2019, Linea 3, Potrero, 22018\n",
      "2019-01-06, 1, junio, 2019, Linea 3, Potrero, 14833\n",
      "2019-04-06, 4, junio, 2019, Linea 3, Potrero, 18410\n",
      "2019-06-06, 6, junio, 2019, Linea 3, Potrero, 21180\n",
      "2019-06-16, 16, junio, 2019, Linea 3, Potrero, 10548\n",
      "2019-06-17, 17, junio, 2019, Linea 3, Potrero, 19650\n",
      "2019-06-18, 18, junio, 2019, Linea 3, Potrero, 18003\n",
      "2019-06-19, 19, junio, 2019, Linea 3, Potrero, 18540\n",
      "2019-06-23, 23, junio, 2019, Linea 3, Potrero, 11242\n",
      "2019-06-25, 25, junio, 2019, Linea 3, Potrero, 16872\n",
      "2019-06-26, 26, junio, 2019, Linea 3, Potrero, 17826\n",
      "2019-06-27, 27, junio, 2019, Linea 3, Potrero, 19647\n",
      "2019-06-28, 28, junio, 2019, Linea 3, Potrero, 20905\n",
      "2019-06-07, 6, julio, 2019, Linea 3, Potrero, 16180\n",
      "2019-07-07, 7, julio, 2019, Linea 3, Potrero, 10978\n",
      "2019-11-07, 11, julio, 2019, Linea 3, Potrero, 15158\n",
      "2019-07-18, 18, julio, 2019, Linea 3, Potrero, 16162\n",
      "2019-10-09, 10, septiembre, 2019, Linea 3, Potrero, 20239\n",
      "2019-09-22, 22, septiembre, 2019, Linea 3, Potrero, 11162\n",
      "2019-09-25, 25, septiembre, 2019, Linea 3, Potrero, 19950\n",
      "2019-09-28, 28, septiembre, 2019, Linea 3, Potrero, 17216\n",
      "2019-03-10, 3, octubre, 2019, Linea 3, Potrero, 19627\n",
      "2019-04-10, 4, octubre, 2019, Linea 3, Potrero, 21949\n",
      "2019-06-10, 6, octubre, 2019, Linea 3, Potrero, 11405\n",
      "2019-10-10, 10, octubre, 2019, Linea 3, Potrero, 21779\n",
      "2019-11-10, 11, octubre, 2019, Linea 3, Potrero, 20993\n",
      "2019-12-10, 12, octubre, 2019, Linea 3, Potrero, 18178\n",
      "2019-10-17, 17, octubre, 2019, Linea 3, Potrero, 25728\n",
      "2019-10-20, 20, octubre, 2019, Linea 3, Potrero, 12093\n",
      "2019-10-21, 21, octubre, 2019, Linea 3, Potrero, 21400\n",
      "2019-10-27, 27, octubre, 2019, Linea 3, Potrero, 13100\n",
      "2019-10-29, 29, octubre, 2019, Linea 3, Potrero, 20004\n",
      "2019-07-21, 21, julio, 2019, Linea 3, Potrero, 0\n",
      "2019-07-22, 22, julio, 2019, Linea 3, Potrero, 16170\n",
      "2019-07-25, 25, julio, 2019, Linea 3, Potrero, 17510\n",
      "2019-04-08, 4, agosto, 2019, Linea 3, Potrero, 11168\n",
      "2019-06-08, 6, agosto, 2019, Linea 3, Potrero, 19316\n",
      "2019-12-08, 12, agosto, 2019, Linea 3, Potrero, 19643\n",
      "2019-08-18, 18, agosto, 2019, Linea 3, Potrero, 11445\n",
      "2019-08-21, 21, agosto, 2019, Linea 3, Potrero, 20210\n",
      "2019-08-25, 25, agosto, 2019, Linea 3, Potrero, 9899\n",
      "2019-08-26, 26, agosto, 2019, Linea 3, Potrero, 18945\n",
      "2019-08-27, 27, agosto, 2019, Linea 3, Potrero, 19907\n",
      "2019-08-30, 30, agosto, 2019, Linea 3, Potrero, 20745\n",
      "2019-03-09, 3, septiembre, 2019, Linea 3, Potrero, 20906\n",
      "2019-06-09, 6, septiembre, 2019, Linea 3, Potrero, 23528\n",
      "2019-07-09, 7, septiembre, 2019, Linea 3, Potrero, 14308\n",
      "2019-08-09, 8, septiembre, 2019, Linea 3, Potrero, 12234\n",
      "2019-02-16, 16, febrero, 2019, Linea 3, Potrero, 15280\n",
      "2019-02-18, 18, febrero, 2019, Linea 3, Potrero, 19342\n",
      "2019-02-19, 19, febrero, 2019, Linea 3, Potrero, 19720\n",
      "2019-02-21, 21, febrero, 2019, Linea 3, Potrero, 19132\n",
      "2019-02-22, 22, febrero, 2019, Linea 3, Potrero, 19530\n",
      "2019-02-23, 23, febrero, 2019, Linea 3, Potrero, 17340\n",
      "2019-03-03, 3, marzo, 2019, Linea 3, Potrero, 10943\n",
      "2019-11-03, 11, marzo, 2019, Linea 3, Potrero, 18137\n",
      "2019-03-14, 14, marzo, 2019, Linea 3, Potrero, 23158\n",
      "2019-03-17, 17, marzo, 2019, Linea 3, Potrero, 5709\n",
      "2019-03-20, 20, marzo, 2019, Linea 3, Potrero, 20026\n",
      "2019-03-21, 21, marzo, 2019, Linea 3, Potrero, 18806\n",
      "2019-03-25, 25, marzo, 2019, Linea 3, Potrero, 16918\n",
      "2019-03-28, 28, marzo, 2019, Linea 3, Potrero, 18567\n",
      "2019-03-29, 29, marzo, 2019, Linea 3, Potrero, 22134\n",
      "2019-03-31, 31, marzo, 2019, Linea 3, Potrero, 11217\n",
      "2019-01-04, 1, abril, 2019, Linea 3, Potrero, 19003\n",
      "2019-02-04, 2, abril, 2019, Linea 3, Potrero, 19636\n",
      "2019-03-04, 3, abril, 2019, Linea 3, Potrero, 19041\n",
      "2019-04-04, 4, abril, 2019, Linea 3, Potrero, 22000\n",
      "2019-05-04, 5, abril, 2019, Linea 3, Potrero, 21842\n",
      "2019-02-01, 2, enero, 2019, Linea 3, Potrero, 16031\n",
      "2019-07-01, 7, enero, 2019, Linea 3, Potrero, 17511\n",
      "2019-08-01, 8, enero, 2019, Linea 3, Potrero, 18584\n",
      "2019-11-01, 11, enero, 2019, Linea 3, Potrero, 20067\n",
      "2019-01-13, 13, enero, 2019, Linea 3, Potrero, 12104\n",
      "2019-01-15, 15, enero, 2019, Linea 3, Potrero, 20065\n",
      "2019-01-16, 16, enero, 2019, Linea 3, Potrero, 17660\n",
      "2019-01-20, 20, enero, 2019, Linea 3, Potrero, 10764\n",
      "2019-01-23, 23, enero, 2019, Linea 3, Potrero, 19283\n",
      "2019-01-24, 24, enero, 2019, Linea 3, Potrero, 19620\n",
      "2019-01-25, 25, enero, 2019, Linea 3, Potrero, 19201\n",
      "2019-01-29, 29, enero, 2019, Linea 3, Potrero, 20067\n",
      "2019-01-31, 31, enero, 2019, Linea 3, Potrero, 18004\n",
      "2019-01-02, 1, febrero, 2019, Linea 3, Potrero, 19544\n",
      "2019-03-02, 3, febrero, 2019, Linea 3, Potrero, 11560\n",
      "2019-05-02, 5, febrero, 2019, Linea 3, Potrero, 20168\n",
      "2019-12-02, 12, febrero, 2019, Linea 3, Potrero, 18952\n",
      "2019-02-14, 14, febrero, 2019, Linea 3, Potrero, 20012\n"
     ]
    }
   ],
   "source": [
    "for row in csvfile:\n",
    "    print(', '.join(row))"
   ]
  },
  {
   "cell_type": "code",
   "execution_count": 33,
   "metadata": {},
   "outputs": [
    {
     "name": "stdout",
     "output_type": "stream",
     "text": [
      "36.89885377883911\n",
      "        Fecha  Dia    Mes   Año    Linea            Estacion  Afluencia\n",
      "0  2014-01-01    1  enero  2014  Linea 1  Blvd. Puerto Aéreo      17296\n",
      "1  2014-01-01    1  enero  2014  Linea 1  Isabel la Católica       6701\n",
      "2  2014-01-01    1  enero  2014  Linea 1      Salto del Agua       7543\n",
      "3  2014-01-01    1  enero  2014  Linea 1            Tacubaya      10183\n",
      "4  2014-01-01    1  enero  2014  Linea 1        Observatorio      48294\n"
     ]
    }
   ],
   "source": [
    "start = time.time()\n",
    "url = \"https://datos.cdmx.gob.mx/explore/dataset/afluencia-diaria-del-metro-cdmx/download/?format=csv&refine.ano=2014&timezone=America/Mexico_City&lang=es&use_labels_for_header=true&csv_separator=%2C\"\n",
    "df = pd.read_csv(url)\n",
    "end = time.time()\n",
    "print(end - start)"
   ]
  },
  {
   "cell_type": "markdown",
   "metadata": {},
   "source": [
    "### Guardar archivos en el bucket"
   ]
  },
  {
   "cell_type": "code",
   "execution_count": 55,
   "metadata": {},
   "outputs": [],
   "source": [
    "# subiremos un archivo csv de ejemplo: pollution con ~43k registros \n",
    "#con observaciones de contaminación del aire en una ciudad de China. \n",
    "file_to_upload = '/home/silil/Documents/pollution.csv'\n",
    "file_name = file_to_upload.split(sep='/')[-1]\n",
    "\n",
    "# accedemos a client desde el resource\n",
    "s3.meta.client.upload_file(file_to_upload, bucket_name, file_name)"
   ]
  },
  {
   "cell_type": "markdown",
   "metadata": {},
   "source": [
    "### Acceder al bucket"
   ]
  },
  {
   "cell_type": "code",
   "execution_count": 56,
   "metadata": {},
   "outputs": [
    {
     "name": "stdout",
     "output_type": "stream",
     "text": [
      "s3.ObjectSummary(bucket_name='test-aws-boto', key='pollution.csv')\n"
     ]
    }
   ],
   "source": [
    "# acceder al bucket\n",
    "my_bucket = s3.Bucket(bucket_name)\n",
    "\n",
    "for element in my_bucket.objects.all():\n",
    "    print(element)"
   ]
  },
  {
   "cell_type": "markdown",
   "metadata": {},
   "source": [
    "### Bajar archivos del bucket"
   ]
  },
  {
   "cell_type": "code",
   "execution_count": 60,
   "metadata": {},
   "outputs": [],
   "source": [
    "path_to_download = '/home/silil/Documents/itam/metodos_gran_escala/data-product-architecture/' + file_name\n",
    "\n",
    "s3.meta.client.download_file(bucket_name, file_name, path_to_download)"
   ]
  },
  {
   "cell_type": "markdown",
   "metadata": {},
   "source": [
    "### Borrar archivos del bucket"
   ]
  },
  {
   "cell_type": "code",
   "execution_count": 61,
   "metadata": {},
   "outputs": [
    {
     "data": {
      "text/plain": [
       "{'ResponseMetadata': {'RequestId': 'F6D1AA9745ADFEBE',\n",
       "  'HostId': '6SAzJwWvNHxweiJBD8hBuFyfl9/HdyS+8R4uHkOZIjlMaDPjqosrqbQqinpoqywoYH3iVdNNkJE=',\n",
       "  'HTTPStatusCode': 204,\n",
       "  'HTTPHeaders': {'x-amz-id-2': '6SAzJwWvNHxweiJBD8hBuFyfl9/HdyS+8R4uHkOZIjlMaDPjqosrqbQqinpoqywoYH3iVdNNkJE=',\n",
       "   'x-amz-request-id': 'F6D1AA9745ADFEBE',\n",
       "   'date': 'Fri, 14 Feb 2020 20:56:53 GMT',\n",
       "   'server': 'AmazonS3'},\n",
       "  'RetryAttempts': 0}}"
      ]
     },
     "execution_count": 61,
     "metadata": {},
     "output_type": "execute_result"
    }
   ],
   "source": [
    "s3.Object(bucket_name, file_name).delete()"
   ]
  },
  {
   "cell_type": "markdown",
   "metadata": {},
   "source": [
    "### Borrar el bucket"
   ]
  },
  {
   "cell_type": "code",
   "execution_count": 63,
   "metadata": {},
   "outputs": [
    {
     "data": {
      "text/plain": [
       "{'ResponseMetadata': {'RequestId': 'AD0D410932E0AF53',\n",
       "  'HostId': 'uyoHxHQlhtK4SnDgxU0DPNGfrdg+8DOmLR4dda7bY9sLApMf/JwzXkHQEuaO5CgjxVK9vA5gHXY=',\n",
       "  'HTTPStatusCode': 204,\n",
       "  'HTTPHeaders': {'x-amz-id-2': 'uyoHxHQlhtK4SnDgxU0DPNGfrdg+8DOmLR4dda7bY9sLApMf/JwzXkHQEuaO5CgjxVK9vA5gHXY=',\n",
       "   'x-amz-request-id': 'AD0D410932E0AF53',\n",
       "   'date': 'Fri, 14 Feb 2020 20:57:52 GMT',\n",
       "   'server': 'AmazonS3'},\n",
       "  'RetryAttempts': 0}}"
      ]
     },
     "execution_count": 63,
     "metadata": {},
     "output_type": "execute_result"
    }
   ],
   "source": [
    "s3.Bucket(bucket_name).delete()"
   ]
  },
  {
   "cell_type": "markdown",
   "metadata": {},
   "source": [
    "### Referecias \n",
    "\n",
    "+ [S3 boto3 API Reference](https://boto3.amazonaws.com/v1/documentation/api/latest/reference/services/s3.html)"
   ]
  },
  {
   "cell_type": "code",
   "execution_count": null,
   "metadata": {},
   "outputs": [],
   "source": []
  }
 ],
 "metadata": {
  "kernelspec": {
   "display_name": "Python 3",
   "language": "python",
   "name": "python3"
  },
  "language_info": {
   "codemirror_mode": {
    "name": "ipython",
    "version": 3
   },
   "file_extension": ".py",
   "mimetype": "text/x-python",
   "name": "python",
   "nbconvert_exporter": "python",
   "pygments_lexer": "ipython3",
   "version": "3.7.6"
  }
 },
 "nbformat": 4,
 "nbformat_minor": 2
}
 
